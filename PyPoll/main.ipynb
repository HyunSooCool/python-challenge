{
 "cells": [
  {
   "cell_type": "code",
   "execution_count": 13,
   "metadata": {},
   "outputs": [],
   "source": [
    "import os\n",
    "import csv\n",
    "\n",
    "file = \"Resources/election_data.csv\"\n",
    "\n",
    "with open(file,\"r\") as csv_file:\n",
    "    election_data = csv.reader(csv_file,delimiter = ',')\n",
    "    csv_header = next (election_data)\n",
    "    \n",
    "# initate variables\n",
    "    total_voter = 0\n",
    "    Khan_voter = 0\n",
    "    Correy_voter =0 \n",
    "    Li_voter = 0\n",
    "    OTooley_voter = 0\n",
    "    \n",
    "    for row in election_data:\n",
    "        \n",
    "#count total voter        \n",
    "        total_voter = total_voter + 1\n",
    "        \n",
    "#count each candidate's voters\n",
    "        if row[2] == \"Khan\" :\n",
    "            Khan_voter = Khan_voter + 1\n",
    "        elif row[2] == \"Correy\":\n",
    "            Correy_voter = Correy_voter + 1\n",
    "        elif row[2] == \"Li\" :\n",
    "            Li_voter = Li_voter + 1\n",
    "        elif row[2] == \"O'Tooley\" :\n",
    "            OTooley_voter = OTooley_voter + 1\n",
    "            \n",
    "#calculate voter's percentage of each candidate\n",
    "    percent_Khan = (Khan_voter*100)/total_voter\n",
    "    percent_Correy = (Correy_voter*100) / total_voter\n",
    "    percent_Li = (Li_voter*100) / total_voter\n",
    "    percent_OTooley = (OTooley_voter*100) / total_voter\n",
    "    \n",
    "#find who has most voters\n",
    "    candidates_list= [ \"Khan\",\"Correy\",\"Li\", \"O'Tooley\"]\n",
    "    voter_numebr_list = [Khan_voter,Correy_voter,Li_voter, OTooley_voter]\n",
    "    index_winner_candidates = voter_numebr_list.index(max(voter_numebr_list))\n",
    "\n",
    "result = \"result.txt\"\n",
    "\n",
    "with open(result, \"w\") as textfile:\n",
    "    \n",
    "    textfile.write(f\"Total voter : {total_voter}\\n\")\n",
    "    textfile.write(\"-----------------------------------\\n\")\n",
    "    textfile.write(f\"Khan : {int(percent_Khan)} %   ({Khan_voter})\\n\")\n",
    "    textfile.write(f\"Correy : {int(percent_Correy)}%   ({Correy_voter})\\n\")\n",
    "    textfile.write(f\"Li : {int(percent_Li)}%   ({Li_voter})\\n\")\n",
    "    textfile.write(f\"O'Tooley : {int(percent_OTooley)}%  ({OTooley_voter})\\n\")\n",
    "    textfile.write(\"-----------------------------------\\n\")\n",
    "    textfile.write(f\"Winner : {candidates_list[index_winner_candidates]}\\n\")\n",
    "    \n",
    "    \n",
    "    \n",
    "    \n"
   ]
  },
  {
   "cell_type": "code",
   "execution_count": null,
   "metadata": {},
   "outputs": [],
   "source": []
  },
  {
   "cell_type": "code",
   "execution_count": null,
   "metadata": {},
   "outputs": [],
   "source": []
  }
 ],
 "metadata": {
  "kernelspec": {
   "display_name": "Python [conda env:PythonData]",
   "language": "python",
   "name": "pythondata"
  },
  "language_info": {
   "codemirror_mode": {
    "name": "ipython",
    "version": 3
   },
   "file_extension": ".py",
   "mimetype": "text/x-python",
   "name": "python",
   "nbconvert_exporter": "python",
   "pygments_lexer": "ipython3",
   "version": "3.7.1"
  }
 },
 "nbformat": 4,
 "nbformat_minor": 2
}
