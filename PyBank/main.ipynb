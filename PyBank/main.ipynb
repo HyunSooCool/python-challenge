{
 "cells": [
  {
   "cell_type": "code",
   "execution_count": 11,
   "metadata": {},
   "outputs": [],
   "source": [
    "import os\n",
    "import csv\n",
    "\n",
    "file = \"/Users/hyunsookim/Documents/bootcamp/Practice/homework-instructions/03_Python/python-challenge/PyBank/Resources/budget_data.csv\"\n",
    "\n",
    "with open (file,'r') as csv_file:\n",
    "    budget_data = csv.reader(csv_file, delimiter=',')\n",
    "    csv_header = next(budget_data)\n",
    "\n",
    "    total_month = 0\n",
    "    total = 0\n",
    "    profit_list = []\n",
    "    date_list = []\n",
    "    profit_change_list = []\n",
    "\n",
    "    for row in budget_data:\n",
    "        total_month = total_month + 1\n",
    "        total = total + int(row[1])\n",
    "        profit_list.append(row[1])\n",
    "        date_list.append(row[0])\n",
    "    \n",
    "    int_profit_list=[int (i) for i in profit_list]\n",
    "\n",
    "    \n",
    "    for j in range(len(int_profit_list) -1) :\n",
    "        profit_change = int_profit_list[j+1] - int_profit_list[j] \n",
    "        profit_change_list.append(profit_change)\n",
    "        \n",
    "        \n",
    "    len_change_list = len(profit_change_list)\n",
    "    change_sum = sum(profit_change_list)\n",
    "    average_change = change_sum / len_change_list\n",
    "\n",
    "    \n",
    "    greatest_increase = max(profit_change_list)\n",
    "    greatest_decrease = min(profit_change_list)\n",
    "    index_greatest_increase = profit_change_list.index(greatest_increase)\n",
    "    index_greatest_decrese = profit_change_list.index(greatest_decrease)\n",
    "\n",
    "result = \"result.txt\"\n",
    "with open(result, \"w\") as textfile:\n",
    "    \n",
    "    textfile.write(\"Financial Analysis\\n\")\n",
    "    textfile.write(\"-----------------------------------\\n\")\n",
    "    textfile.write(f\"Total months : {total_month}\\n\")\n",
    "    textfile.write(f\"Average Change : {date_list[index_greatest_increase+1]}  ${average_change}\\n\")\n",
    "    textfile.write(f\"Greatest Increase in Profits : {date_list[index_greatest_increase+1]}   (${greatest_increase})\\n\")\n",
    "    textfile.write(f\"Greatest Decrease in Profits : {date_list[index_greatest_decrese+1]}  (${greatest_decrease})\")\n",
    "  \n"
   ]
  },
  {
   "cell_type": "code",
   "execution_count": null,
   "metadata": {},
   "outputs": [],
   "source": []
  },
  {
   "cell_type": "code",
   "execution_count": null,
   "metadata": {},
   "outputs": [],
   "source": []
  }
 ],
 "metadata": {
  "kernelspec": {
   "display_name": "Python [conda env:PythonData]",
   "language": "python",
   "name": "pythondata"
  },
  "language_info": {
   "codemirror_mode": {
    "name": "ipython",
    "version": 3
   },
   "file_extension": ".py",
   "mimetype": "text/x-python",
   "name": "python",
   "nbconvert_exporter": "python",
   "pygments_lexer": "ipython3",
   "version": "3.7.1"
  }
 },
 "nbformat": 4,
 "nbformat_minor": 2
}
